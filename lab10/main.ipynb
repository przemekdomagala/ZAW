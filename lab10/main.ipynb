{
 "cells": [
  {
   "cell_type": "code",
   "execution_count": 1,
   "id": "92e86c20",
   "metadata": {},
   "outputs": [],
   "source": [
    "import cv2\n",
    "import numpy as np\n",
    "import os"
   ]
  },
  {
   "cell_type": "markdown",
   "id": "259d9c33",
   "metadata": {},
   "source": [
    "# 10.1"
   ]
  },
  {
   "cell_type": "code",
   "execution_count": 3,
   "id": "7e270831",
   "metadata": {},
   "outputs": [],
   "source": [
    "# Funkcja merge_figures łączy prostokąty należące do jednej sylwetki,\n",
    "# które zostały wykryte jako oddzielne obiekty (np. tułów i nogi).\n",
    "# Łączenie opiera się na bliskości w pionie i poziomie (th_distance).\n",
    "# Prostokąty są scalane, jeśli są wystarczająco blisko siebie,\n",
    "# a wynikowy obszar przekracza zadany próg min_area.\n",
    "\n",
    "def merge_figures(stats, th_distance=25, min_area=1000):\n",
    "    merged = []\n",
    "    skip_indices = set()\n",
    "    for i in range(len(stats)):\n",
    "        if i in skip_indices:\n",
    "            continue\n",
    "        x, y, w, h, area = stats[i]\n",
    "        aspect_ratio = h / w if w != 0 else 0\n",
    "        if aspect_ratio > 0.6 and area > 500:\n",
    "            current_rect = [x, y, x + w, y + h]\n",
    "            for j in range(i + 1, len(stats)):\n",
    "                if j in skip_indices:\n",
    "                    continue\n",
    "                x2, y2, w2, h2, area2 = stats[j]\n",
    "\n",
    "                vert_proximity = abs((y + h) - y2) < th_distance or abs((y2 + h2) - y) < th_distance\n",
    "                hor_proximity = abs(x - x2) < th_distance or abs((x + w) - (x2 + w2)) < th_distance\n",
    "\n",
    "                if vert_proximity and hor_proximity:\n",
    "                    new_x = min(current_rect[0], x2)\n",
    "                    new_y = min(current_rect[1], y2)\n",
    "                    new_x2 = max(current_rect[2], x2 + w2)\n",
    "                    new_y2 = max(current_rect[3], y2 + h2)\n",
    "                    current_rect = [new_x, new_y, new_x2, new_y2]\n",
    "                    skip_indices.add(j)\n",
    "\n",
    "            total_area = (current_rect[2] - current_rect[0]) * (current_rect[3] - current_rect[1])\n",
    "            if total_area > min_area:\n",
    "                merged.append(current_rect)\n",
    "    return merged\n",
    "\n",
    "\n",
    "cap = cv2.VideoCapture('vid1_IR.wm')\n",
    "frame_width = int(cap.get(cv2.CAP_PROP_FRAME_WIDTH))\n",
    "frame_height = int(cap.get(cv2.CAP_PROP_FRAME_HEIGHT))\n",
    "fps = cap.get(cv2.CAP_PROP_FPS)\n",
    "\n",
    "out = cv2.VideoWriter('output_IR_merged.avi',\n",
    "                      cv2.VideoWriter_fourcc(*'XVID'),\n",
    "                      fps,\n",
    "                      (frame_width, frame_height))\n",
    "\n",
    "while cap.isOpened():\n",
    "    ret, frame = cap.read()\n",
    "    if not ret:\n",
    "        break\n",
    "\n",
    "    G = cv2.cvtColor(frame, cv2.COLOR_BGR2GRAY)\n",
    "    G_bin = cv2.threshold(G, 40, 255, cv2.THRESH_BINARY)[1]\n",
    "    G_bin = cv2.medianBlur(G_bin, 5)\n",
    "    kernel = np.ones((5, 5), np.uint8)\n",
    "    G_bin = cv2.morphologyEx(G_bin, cv2.MORPH_CLOSE, kernel)\n",
    "\n",
    "    num_labels, labels, stats, centroids = cv2.connectedComponentsWithStats(G_bin)\n",
    "\n",
    "    merged_rects = merge_figures(stats[1:])\n",
    "\n",
    "    output = frame.copy()\n",
    "    for x1, y1, x2, y2 in merged_rects:\n",
    "        cv2.rectangle(output, (x1, y1), (x2, y2), (0, 255, 0), 2)\n",
    "\n",
    "    out.write(output)\n",
    "    cv2.imshow('Output', output)\n",
    "    if cv2.waitKey(1) & 0xFF == ord('q'):\n",
    "        break\n",
    "\n",
    "cap.release()\n",
    "out.release()\n",
    "cv2.destroyAllWindows()"
   ]
  }
 ],
 "metadata": {
  "kernelspec": {
   "display_name": ".venv",
   "language": "python",
   "name": "python3"
  },
  "language_info": {
   "codemirror_mode": {
    "name": "ipython",
    "version": 3
   },
   "file_extension": ".py",
   "mimetype": "text/x-python",
   "name": "python",
   "nbconvert_exporter": "python",
   "pygments_lexer": "ipython3",
   "version": "3.10.12"
  }
 },
 "nbformat": 4,
 "nbformat_minor": 5
}
